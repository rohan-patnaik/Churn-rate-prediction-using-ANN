{
 "cells": [
  {
   "cell_type": "code",
   "execution_count": 1,
   "id": "260bc327",
   "metadata": {},
   "outputs": [],
   "source": [
    "# Artificial Neural Network\n",
    "\n",
    "\n",
    "# Part 1 - Data Preprocessing\n",
    "\n",
    "# Importing the libraries\n",
    "import numpy as np\n",
    "import matplotlib.pyplot as plt\n",
    "import pandas as pd"
   ]
  },
  {
   "cell_type": "code",
   "execution_count": 2,
   "id": "0fd845dd",
   "metadata": {},
   "outputs": [],
   "source": [
    "# Importing the dataset\n",
    "dataset = pd.read_csv('Churn_Modelling.csv')\n",
    "X = dataset.iloc[:, 3:13]\n",
    "y = dataset.iloc[:, 13]"
   ]
  },
  {
   "cell_type": "code",
   "execution_count": 3,
   "id": "9a70a31b",
   "metadata": {},
   "outputs": [
    {
     "data": {
      "text/html": [
       "<div>\n",
       "<style scoped>\n",
       "    .dataframe tbody tr th:only-of-type {\n",
       "        vertical-align: middle;\n",
       "    }\n",
       "\n",
       "    .dataframe tbody tr th {\n",
       "        vertical-align: top;\n",
       "    }\n",
       "\n",
       "    .dataframe thead th {\n",
       "        text-align: right;\n",
       "    }\n",
       "</style>\n",
       "<table border=\"1\" class=\"dataframe\">\n",
       "  <thead>\n",
       "    <tr style=\"text-align: right;\">\n",
       "      <th></th>\n",
       "      <th>RowNumber</th>\n",
       "      <th>CustomerId</th>\n",
       "      <th>Surname</th>\n",
       "      <th>CreditScore</th>\n",
       "      <th>Geography</th>\n",
       "      <th>Gender</th>\n",
       "      <th>Age</th>\n",
       "      <th>Tenure</th>\n",
       "      <th>Balance</th>\n",
       "      <th>NumOfProducts</th>\n",
       "      <th>HasCrCard</th>\n",
       "      <th>IsActiveMember</th>\n",
       "      <th>EstimatedSalary</th>\n",
       "      <th>Exited</th>\n",
       "    </tr>\n",
       "  </thead>\n",
       "  <tbody>\n",
       "    <tr>\n",
       "      <th>0</th>\n",
       "      <td>1</td>\n",
       "      <td>15634602</td>\n",
       "      <td>Hargrave</td>\n",
       "      <td>619</td>\n",
       "      <td>France</td>\n",
       "      <td>Female</td>\n",
       "      <td>42</td>\n",
       "      <td>2</td>\n",
       "      <td>0.00</td>\n",
       "      <td>1</td>\n",
       "      <td>1</td>\n",
       "      <td>1</td>\n",
       "      <td>101348.88</td>\n",
       "      <td>1</td>\n",
       "    </tr>\n",
       "    <tr>\n",
       "      <th>1</th>\n",
       "      <td>2</td>\n",
       "      <td>15647311</td>\n",
       "      <td>Hill</td>\n",
       "      <td>608</td>\n",
       "      <td>Spain</td>\n",
       "      <td>Female</td>\n",
       "      <td>41</td>\n",
       "      <td>1</td>\n",
       "      <td>83807.86</td>\n",
       "      <td>1</td>\n",
       "      <td>0</td>\n",
       "      <td>1</td>\n",
       "      <td>112542.58</td>\n",
       "      <td>0</td>\n",
       "    </tr>\n",
       "    <tr>\n",
       "      <th>2</th>\n",
       "      <td>3</td>\n",
       "      <td>15619304</td>\n",
       "      <td>Onio</td>\n",
       "      <td>502</td>\n",
       "      <td>France</td>\n",
       "      <td>Female</td>\n",
       "      <td>42</td>\n",
       "      <td>8</td>\n",
       "      <td>159660.80</td>\n",
       "      <td>3</td>\n",
       "      <td>1</td>\n",
       "      <td>0</td>\n",
       "      <td>113931.57</td>\n",
       "      <td>1</td>\n",
       "    </tr>\n",
       "    <tr>\n",
       "      <th>3</th>\n",
       "      <td>4</td>\n",
       "      <td>15701354</td>\n",
       "      <td>Boni</td>\n",
       "      <td>699</td>\n",
       "      <td>France</td>\n",
       "      <td>Female</td>\n",
       "      <td>39</td>\n",
       "      <td>1</td>\n",
       "      <td>0.00</td>\n",
       "      <td>2</td>\n",
       "      <td>0</td>\n",
       "      <td>0</td>\n",
       "      <td>93826.63</td>\n",
       "      <td>0</td>\n",
       "    </tr>\n",
       "    <tr>\n",
       "      <th>4</th>\n",
       "      <td>5</td>\n",
       "      <td>15737888</td>\n",
       "      <td>Mitchell</td>\n",
       "      <td>850</td>\n",
       "      <td>Spain</td>\n",
       "      <td>Female</td>\n",
       "      <td>43</td>\n",
       "      <td>2</td>\n",
       "      <td>125510.82</td>\n",
       "      <td>1</td>\n",
       "      <td>1</td>\n",
       "      <td>1</td>\n",
       "      <td>79084.10</td>\n",
       "      <td>0</td>\n",
       "    </tr>\n",
       "    <tr>\n",
       "      <th>...</th>\n",
       "      <td>...</td>\n",
       "      <td>...</td>\n",
       "      <td>...</td>\n",
       "      <td>...</td>\n",
       "      <td>...</td>\n",
       "      <td>...</td>\n",
       "      <td>...</td>\n",
       "      <td>...</td>\n",
       "      <td>...</td>\n",
       "      <td>...</td>\n",
       "      <td>...</td>\n",
       "      <td>...</td>\n",
       "      <td>...</td>\n",
       "      <td>...</td>\n",
       "    </tr>\n",
       "    <tr>\n",
       "      <th>9995</th>\n",
       "      <td>9996</td>\n",
       "      <td>15606229</td>\n",
       "      <td>Obijiaku</td>\n",
       "      <td>771</td>\n",
       "      <td>France</td>\n",
       "      <td>Male</td>\n",
       "      <td>39</td>\n",
       "      <td>5</td>\n",
       "      <td>0.00</td>\n",
       "      <td>2</td>\n",
       "      <td>1</td>\n",
       "      <td>0</td>\n",
       "      <td>96270.64</td>\n",
       "      <td>0</td>\n",
       "    </tr>\n",
       "    <tr>\n",
       "      <th>9996</th>\n",
       "      <td>9997</td>\n",
       "      <td>15569892</td>\n",
       "      <td>Johnstone</td>\n",
       "      <td>516</td>\n",
       "      <td>France</td>\n",
       "      <td>Male</td>\n",
       "      <td>35</td>\n",
       "      <td>10</td>\n",
       "      <td>57369.61</td>\n",
       "      <td>1</td>\n",
       "      <td>1</td>\n",
       "      <td>1</td>\n",
       "      <td>101699.77</td>\n",
       "      <td>0</td>\n",
       "    </tr>\n",
       "    <tr>\n",
       "      <th>9997</th>\n",
       "      <td>9998</td>\n",
       "      <td>15584532</td>\n",
       "      <td>Liu</td>\n",
       "      <td>709</td>\n",
       "      <td>France</td>\n",
       "      <td>Female</td>\n",
       "      <td>36</td>\n",
       "      <td>7</td>\n",
       "      <td>0.00</td>\n",
       "      <td>1</td>\n",
       "      <td>0</td>\n",
       "      <td>1</td>\n",
       "      <td>42085.58</td>\n",
       "      <td>1</td>\n",
       "    </tr>\n",
       "    <tr>\n",
       "      <th>9998</th>\n",
       "      <td>9999</td>\n",
       "      <td>15682355</td>\n",
       "      <td>Sabbatini</td>\n",
       "      <td>772</td>\n",
       "      <td>Germany</td>\n",
       "      <td>Male</td>\n",
       "      <td>42</td>\n",
       "      <td>3</td>\n",
       "      <td>75075.31</td>\n",
       "      <td>2</td>\n",
       "      <td>1</td>\n",
       "      <td>0</td>\n",
       "      <td>92888.52</td>\n",
       "      <td>1</td>\n",
       "    </tr>\n",
       "    <tr>\n",
       "      <th>9999</th>\n",
       "      <td>10000</td>\n",
       "      <td>15628319</td>\n",
       "      <td>Walker</td>\n",
       "      <td>792</td>\n",
       "      <td>France</td>\n",
       "      <td>Female</td>\n",
       "      <td>28</td>\n",
       "      <td>4</td>\n",
       "      <td>130142.79</td>\n",
       "      <td>1</td>\n",
       "      <td>1</td>\n",
       "      <td>0</td>\n",
       "      <td>38190.78</td>\n",
       "      <td>0</td>\n",
       "    </tr>\n",
       "  </tbody>\n",
       "</table>\n",
       "<p>10000 rows × 14 columns</p>\n",
       "</div>"
      ],
      "text/plain": [
       "      RowNumber  CustomerId    Surname  CreditScore Geography  Gender  Age  \\\n",
       "0             1    15634602   Hargrave          619    France  Female   42   \n",
       "1             2    15647311       Hill          608     Spain  Female   41   \n",
       "2             3    15619304       Onio          502    France  Female   42   \n",
       "3             4    15701354       Boni          699    France  Female   39   \n",
       "4             5    15737888   Mitchell          850     Spain  Female   43   \n",
       "...         ...         ...        ...          ...       ...     ...  ...   \n",
       "9995       9996    15606229   Obijiaku          771    France    Male   39   \n",
       "9996       9997    15569892  Johnstone          516    France    Male   35   \n",
       "9997       9998    15584532        Liu          709    France  Female   36   \n",
       "9998       9999    15682355  Sabbatini          772   Germany    Male   42   \n",
       "9999      10000    15628319     Walker          792    France  Female   28   \n",
       "\n",
       "      Tenure    Balance  NumOfProducts  HasCrCard  IsActiveMember  \\\n",
       "0          2       0.00              1          1               1   \n",
       "1          1   83807.86              1          0               1   \n",
       "2          8  159660.80              3          1               0   \n",
       "3          1       0.00              2          0               0   \n",
       "4          2  125510.82              1          1               1   \n",
       "...      ...        ...            ...        ...             ...   \n",
       "9995       5       0.00              2          1               0   \n",
       "9996      10   57369.61              1          1               1   \n",
       "9997       7       0.00              1          0               1   \n",
       "9998       3   75075.31              2          1               0   \n",
       "9999       4  130142.79              1          1               0   \n",
       "\n",
       "      EstimatedSalary  Exited  \n",
       "0           101348.88       1  \n",
       "1           112542.58       0  \n",
       "2           113931.57       1  \n",
       "3            93826.63       0  \n",
       "4            79084.10       0  \n",
       "...               ...     ...  \n",
       "9995         96270.64       0  \n",
       "9996        101699.77       0  \n",
       "9997         42085.58       1  \n",
       "9998         92888.52       1  \n",
       "9999         38190.78       0  \n",
       "\n",
       "[10000 rows x 14 columns]"
      ]
     },
     "execution_count": 3,
     "metadata": {},
     "output_type": "execute_result"
    }
   ],
   "source": [
    "dataset"
   ]
  },
  {
   "cell_type": "code",
   "execution_count": 4,
   "id": "e2227ee8",
   "metadata": {},
   "outputs": [
    {
     "data": {
      "text/plain": [
       "(10000, 14)"
      ]
     },
     "execution_count": 4,
     "metadata": {},
     "output_type": "execute_result"
    }
   ],
   "source": [
    "dataset.shape"
   ]
  },
  {
   "cell_type": "code",
   "execution_count": 5,
   "id": "4aa0a325",
   "metadata": {},
   "outputs": [],
   "source": [
    "#Create dummy variables\n",
    "geography=pd.get_dummies(X[\"Geography\"],drop_first=True)\n",
    "gender=pd.get_dummies(X['Gender'],drop_first=True)\n"
   ]
  },
  {
   "cell_type": "code",
   "execution_count": 6,
   "id": "22368ddf",
   "metadata": {},
   "outputs": [],
   "source": [
    "## Concatenate the Data Frames\n",
    "X=pd.concat([X,geography,gender],axis=1)"
   ]
  },
  {
   "cell_type": "code",
   "execution_count": 7,
   "id": "fb319a24",
   "metadata": {},
   "outputs": [
    {
     "data": {
      "text/plain": [
       "(10000, 13)"
      ]
     },
     "execution_count": 7,
     "metadata": {},
     "output_type": "execute_result"
    }
   ],
   "source": [
    "X.shape"
   ]
  },
  {
   "cell_type": "code",
   "execution_count": 8,
   "id": "cceb5d80",
   "metadata": {},
   "outputs": [],
   "source": [
    "## Drop Unnecessary columns\n",
    "X=X.drop(['Geography','Gender'],axis=1)"
   ]
  },
  {
   "cell_type": "code",
   "execution_count": 9,
   "id": "5f8412e0",
   "metadata": {},
   "outputs": [
    {
     "data": {
      "text/plain": [
       "(10000, 11)"
      ]
     },
     "execution_count": 9,
     "metadata": {},
     "output_type": "execute_result"
    }
   ],
   "source": [
    "X.shape"
   ]
  },
  {
   "cell_type": "code",
   "execution_count": 10,
   "id": "4a6e52d5",
   "metadata": {},
   "outputs": [],
   "source": [
    "# Splitting the dataset into the Training set and Test set\n",
    "from sklearn.model_selection import train_test_split\n",
    "X_train, X_test, y_train, y_test = train_test_split(X, y, test_size = 0.2, random_state = 0)\n",
    "\n",
    "# Feature Scaling\n",
    "from sklearn.preprocessing import StandardScaler\n",
    "sc = StandardScaler()\n",
    "X_train = sc.fit_transform(X_train)\n",
    "X_test = sc.transform(X_test)"
   ]
  },
  {
   "cell_type": "code",
   "execution_count": 11,
   "id": "e0b0b407",
   "metadata": {},
   "outputs": [],
   "source": [
    "# Part 2 - Now let's make the ANN!\n",
    "\n",
    "# Importing the Keras libraries and packages\n",
    "import keras\n",
    "from keras.models import Sequential\n",
    "from keras.layers import Dense\n",
    "from keras.layers import LeakyReLU,PReLU,ELU\n",
    "from keras.layers import Dropout"
   ]
  },
  {
   "cell_type": "code",
   "execution_count": 12,
   "id": "169b23cd",
   "metadata": {},
   "outputs": [],
   "source": [
    "# Initialising the ANN\n",
    "classifier = Sequential()\n",
    "\n",
    "# Adding the input layer and the first hidden layer\n",
    "classifier.add(Dense(units = 6, kernel_initializer = 'he_uniform',activation='relu',input_dim = 11))\n",
    "# classifier.add(Dropout(0.3))\n",
    "\n",
    "# Adding the second hidden layer\n",
    "classifier.add(Dense(units = 6, kernel_initializer = 'he_uniform',activation='relu'))\n",
    "# Adding the output layer\n",
    "classifier.add(Dense(units = 1, kernel_initializer = 'glorot_uniform', activation = 'sigmoid'))"
   ]
  },
  {
   "cell_type": "code",
   "execution_count": 13,
   "id": "5444297d",
   "metadata": {},
   "outputs": [],
   "source": [
    "# Compiling the ANN\n",
    "classifier.compile(optimizer = 'Adamax', loss = 'binary_crossentropy', metrics = ['accuracy'])"
   ]
  },
  {
   "cell_type": "code",
   "execution_count": 14,
   "id": "ef9f650c",
   "metadata": {},
   "outputs": [
    {
     "name": "stdout",
     "output_type": "stream",
     "text": [
      "Model: \"sequential\"\n",
      "_________________________________________________________________\n",
      "Layer (type)                 Output Shape              Param #   \n",
      "=================================================================\n",
      "dense (Dense)                (None, 6)                 72        \n",
      "_________________________________________________________________\n",
      "dense_1 (Dense)              (None, 6)                 42        \n",
      "_________________________________________________________________\n",
      "dense_2 (Dense)              (None, 1)                 7         \n",
      "=================================================================\n",
      "Total params: 121\n",
      "Trainable params: 121\n",
      "Non-trainable params: 0\n",
      "_________________________________________________________________\n"
     ]
    }
   ],
   "source": [
    "classifier.summary()"
   ]
  },
  {
   "cell_type": "code",
   "execution_count": 15,
   "id": "375abd6a",
   "metadata": {},
   "outputs": [
    {
     "data": {
      "text/plain": [
       "((8000, 11), (8000,))"
      ]
     },
     "execution_count": 15,
     "metadata": {},
     "output_type": "execute_result"
    }
   ],
   "source": [
    "X_train.shape, y_train.shape"
   ]
  },
  {
   "cell_type": "code",
   "execution_count": 16,
   "id": "7d6f48e2",
   "metadata": {
    "scrolled": true
   },
   "outputs": [
    {
     "name": "stdout",
     "output_type": "stream",
     "text": [
      "Epoch 1/100\n",
      "536/536 [==============================] - 1s 725us/step - loss: 0.5940 - accuracy: 0.7005 - val_loss: 0.5439 - val_accuracy: 0.7573\n",
      "Epoch 2/100\n",
      "536/536 [==============================] - 0s 544us/step - loss: 0.5232 - accuracy: 0.7787 - val_loss: 0.5081 - val_accuracy: 0.7917\n",
      "Epoch 3/100\n",
      "536/536 [==============================] - 0s 570us/step - loss: 0.4959 - accuracy: 0.7932 - val_loss: 0.4911 - val_accuracy: 0.7948\n",
      "Epoch 4/100\n",
      "536/536 [==============================] - 0s 537us/step - loss: 0.4810 - accuracy: 0.7957 - val_loss: 0.4803 - val_accuracy: 0.7959\n",
      "Epoch 5/100\n",
      "536/536 [==============================] - 0s 540us/step - loss: 0.4702 - accuracy: 0.7972 - val_loss: 0.4717 - val_accuracy: 0.7967\n",
      "Epoch 6/100\n",
      "536/536 [==============================] - 0s 494us/step - loss: 0.4617 - accuracy: 0.7979 - val_loss: 0.4658 - val_accuracy: 0.7982\n",
      "Epoch 7/100\n",
      "536/536 [==============================] - 0s 505us/step - loss: 0.4552 - accuracy: 0.7987 - val_loss: 0.4605 - val_accuracy: 0.8005\n",
      "Epoch 8/100\n",
      "536/536 [==============================] - 0s 522us/step - loss: 0.4492 - accuracy: 0.7996 - val_loss: 0.4558 - val_accuracy: 0.8012\n",
      "Epoch 9/100\n",
      "536/536 [==============================] - 0s 522us/step - loss: 0.4436 - accuracy: 0.8044 - val_loss: 0.4509 - val_accuracy: 0.8023\n",
      "Epoch 10/100\n",
      "536/536 [==============================] - 0s 514us/step - loss: 0.4382 - accuracy: 0.8063 - val_loss: 0.4464 - val_accuracy: 0.8023\n",
      "Epoch 11/100\n",
      "536/536 [==============================] - 0s 518us/step - loss: 0.4330 - accuracy: 0.8089 - val_loss: 0.4422 - val_accuracy: 0.8035\n",
      "Epoch 12/100\n",
      "536/536 [==============================] - 0s 555us/step - loss: 0.4282 - accuracy: 0.8119 - val_loss: 0.4386 - val_accuracy: 0.8076\n",
      "Epoch 13/100\n",
      "536/536 [==============================] - 0s 527us/step - loss: 0.4235 - accuracy: 0.8162 - val_loss: 0.4348 - val_accuracy: 0.8088\n",
      "Epoch 14/100\n",
      "536/536 [==============================] - 0s 514us/step - loss: 0.4188 - accuracy: 0.8173 - val_loss: 0.4310 - val_accuracy: 0.8099\n",
      "Epoch 15/100\n",
      "536/536 [==============================] - 0s 559us/step - loss: 0.4143 - accuracy: 0.8175 - val_loss: 0.4279 - val_accuracy: 0.8129\n",
      "Epoch 16/100\n",
      "536/536 [==============================] - 0s 518us/step - loss: 0.4105 - accuracy: 0.8186 - val_loss: 0.4246 - val_accuracy: 0.8167\n",
      "Epoch 17/100\n",
      "536/536 [==============================] - 0s 505us/step - loss: 0.4064 - accuracy: 0.8235 - val_loss: 0.4213 - val_accuracy: 0.8175\n",
      "Epoch 18/100\n",
      "536/536 [==============================] - 0s 518us/step - loss: 0.4026 - accuracy: 0.8246 - val_loss: 0.4188 - val_accuracy: 0.8164\n",
      "Epoch 19/100\n",
      "536/536 [==============================] - 0s 542us/step - loss: 0.3992 - accuracy: 0.8259 - val_loss: 0.4159 - val_accuracy: 0.8224\n",
      "Epoch 20/100\n",
      "536/536 [==============================] - 0s 537us/step - loss: 0.3959 - accuracy: 0.8309 - val_loss: 0.4128 - val_accuracy: 0.8251\n",
      "Epoch 21/100\n",
      "536/536 [==============================] - 0s 527us/step - loss: 0.3925 - accuracy: 0.8339 - val_loss: 0.4099 - val_accuracy: 0.8266\n",
      "Epoch 22/100\n",
      "536/536 [==============================] - 0s 490us/step - loss: 0.3895 - accuracy: 0.8360 - val_loss: 0.4071 - val_accuracy: 0.8266\n",
      "Epoch 23/100\n",
      "536/536 [==============================] - 0s 512us/step - loss: 0.3865 - accuracy: 0.8384 - val_loss: 0.4043 - val_accuracy: 0.8273\n",
      "Epoch 24/100\n",
      "536/536 [==============================] - 0s 499us/step - loss: 0.3837 - accuracy: 0.8399 - val_loss: 0.4017 - val_accuracy: 0.8273\n",
      "Epoch 25/100\n",
      "536/536 [==============================] - 0s 507us/step - loss: 0.3811 - accuracy: 0.8405 - val_loss: 0.3993 - val_accuracy: 0.8277\n",
      "Epoch 26/100\n",
      "536/536 [==============================] - 0s 535us/step - loss: 0.3788 - accuracy: 0.8410 - val_loss: 0.3970 - val_accuracy: 0.8304\n",
      "Epoch 27/100\n",
      "536/536 [==============================] - 0s 531us/step - loss: 0.3768 - accuracy: 0.8425 - val_loss: 0.3949 - val_accuracy: 0.8345\n",
      "Epoch 28/100\n",
      "536/536 [==============================] - 0s 494us/step - loss: 0.3747 - accuracy: 0.8440 - val_loss: 0.3929 - val_accuracy: 0.8353\n",
      "Epoch 29/100\n",
      "536/536 [==============================] - 0s 510us/step - loss: 0.3729 - accuracy: 0.8455 - val_loss: 0.3912 - val_accuracy: 0.8372\n",
      "Epoch 30/100\n",
      "536/536 [==============================] - 0s 494us/step - loss: 0.3712 - accuracy: 0.8459 - val_loss: 0.3897 - val_accuracy: 0.8372\n",
      "Epoch 31/100\n",
      "536/536 [==============================] - 0s 495us/step - loss: 0.3698 - accuracy: 0.8453 - val_loss: 0.3885 - val_accuracy: 0.8368\n",
      "Epoch 32/100\n",
      "536/536 [==============================] - 0s 503us/step - loss: 0.3684 - accuracy: 0.8468 - val_loss: 0.3873 - val_accuracy: 0.8372\n",
      "Epoch 33/100\n",
      "536/536 [==============================] - 0s 510us/step - loss: 0.3672 - accuracy: 0.8466 - val_loss: 0.3863 - val_accuracy: 0.8376\n",
      "Epoch 34/100\n",
      "536/536 [==============================] - 0s 488us/step - loss: 0.3661 - accuracy: 0.8462 - val_loss: 0.3855 - val_accuracy: 0.8383\n",
      "Epoch 35/100\n",
      "536/536 [==============================] - 0s 512us/step - loss: 0.3653 - accuracy: 0.8474 - val_loss: 0.3846 - val_accuracy: 0.8376\n",
      "Epoch 36/100\n",
      "536/536 [==============================] - 0s 516us/step - loss: 0.3642 - accuracy: 0.8474 - val_loss: 0.3839 - val_accuracy: 0.8383\n",
      "Epoch 37/100\n",
      "536/536 [==============================] - 0s 501us/step - loss: 0.3635 - accuracy: 0.8479 - val_loss: 0.3832 - val_accuracy: 0.8383\n",
      "Epoch 38/100\n",
      "536/536 [==============================] - 0s 503us/step - loss: 0.3626 - accuracy: 0.8475 - val_loss: 0.3826 - val_accuracy: 0.8398\n",
      "Epoch 39/100\n",
      "536/536 [==============================] - 0s 522us/step - loss: 0.3618 - accuracy: 0.8475 - val_loss: 0.3822 - val_accuracy: 0.8402\n",
      "Epoch 40/100\n",
      "536/536 [==============================] - 0s 516us/step - loss: 0.3611 - accuracy: 0.8472 - val_loss: 0.3817 - val_accuracy: 0.8402\n",
      "Epoch 41/100\n",
      "536/536 [==============================] - 0s 514us/step - loss: 0.3603 - accuracy: 0.8498 - val_loss: 0.3813 - val_accuracy: 0.8402\n",
      "Epoch 42/100\n",
      "536/536 [==============================] - 0s 512us/step - loss: 0.3598 - accuracy: 0.8490 - val_loss: 0.3808 - val_accuracy: 0.8398\n",
      "Epoch 43/100\n",
      "536/536 [==============================] - 0s 514us/step - loss: 0.3590 - accuracy: 0.8487 - val_loss: 0.3803 - val_accuracy: 0.8406\n",
      "Epoch 44/100\n",
      "536/536 [==============================] - 0s 495us/step - loss: 0.3584 - accuracy: 0.8505 - val_loss: 0.3798 - val_accuracy: 0.8410\n",
      "Epoch 45/100\n",
      "536/536 [==============================] - 0s 518us/step - loss: 0.3579 - accuracy: 0.8490 - val_loss: 0.3794 - val_accuracy: 0.8402\n",
      "Epoch 46/100\n",
      "536/536 [==============================] - 0s 516us/step - loss: 0.3571 - accuracy: 0.8507 - val_loss: 0.3791 - val_accuracy: 0.8413\n",
      "Epoch 47/100\n",
      "536/536 [==============================] - 0s 523us/step - loss: 0.3569 - accuracy: 0.8505 - val_loss: 0.3788 - val_accuracy: 0.8410\n",
      "Epoch 48/100\n",
      "536/536 [==============================] - 0s 514us/step - loss: 0.3562 - accuracy: 0.8498 - val_loss: 0.3785 - val_accuracy: 0.8429\n",
      "Epoch 49/100\n",
      "536/536 [==============================] - 0s 486us/step - loss: 0.3558 - accuracy: 0.8502 - val_loss: 0.3785 - val_accuracy: 0.8406\n",
      "Epoch 50/100\n",
      "536/536 [==============================] - 0s 514us/step - loss: 0.3554 - accuracy: 0.8520 - val_loss: 0.3781 - val_accuracy: 0.8406\n",
      "Epoch 51/100\n",
      "536/536 [==============================] - 0s 514us/step - loss: 0.3549 - accuracy: 0.8500 - val_loss: 0.3777 - val_accuracy: 0.8421\n",
      "Epoch 52/100\n",
      "536/536 [==============================] - 0s 518us/step - loss: 0.3544 - accuracy: 0.8509 - val_loss: 0.3771 - val_accuracy: 0.8425\n",
      "Epoch 53/100\n",
      "536/536 [==============================] - 0s 516us/step - loss: 0.3539 - accuracy: 0.8518 - val_loss: 0.3769 - val_accuracy: 0.8421\n",
      "Epoch 54/100\n",
      "536/536 [==============================] - 0s 510us/step - loss: 0.3534 - accuracy: 0.8515 - val_loss: 0.3768 - val_accuracy: 0.8429\n",
      "Epoch 55/100\n",
      "536/536 [==============================] - 0s 510us/step - loss: 0.3528 - accuracy: 0.8530 - val_loss: 0.3772 - val_accuracy: 0.8425\n",
      "Epoch 56/100\n",
      "536/536 [==============================] - 0s 490us/step - loss: 0.3527 - accuracy: 0.8520 - val_loss: 0.3761 - val_accuracy: 0.8436\n",
      "Epoch 57/100\n",
      "536/536 [==============================] - 0s 531us/step - loss: 0.3523 - accuracy: 0.8530 - val_loss: 0.3761 - val_accuracy: 0.8432\n",
      "Epoch 58/100\n",
      "536/536 [==============================] - 0s 527us/step - loss: 0.3518 - accuracy: 0.8526 - val_loss: 0.3761 - val_accuracy: 0.8440\n",
      "Epoch 59/100\n",
      "536/536 [==============================] - 0s 520us/step - loss: 0.3515 - accuracy: 0.8520 - val_loss: 0.3760 - val_accuracy: 0.8429\n",
      "Epoch 60/100\n",
      "536/536 [==============================] - 0s 518us/step - loss: 0.3512 - accuracy: 0.8518 - val_loss: 0.3755 - val_accuracy: 0.8436\n",
      "Epoch 61/100\n",
      "536/536 [==============================] - 0s 480us/step - loss: 0.3508 - accuracy: 0.8515 - val_loss: 0.3754 - val_accuracy: 0.8429\n",
      "Epoch 62/100\n",
      "536/536 [==============================] - 0s 518us/step - loss: 0.3506 - accuracy: 0.8520 - val_loss: 0.3752 - val_accuracy: 0.8436\n",
      "Epoch 63/100\n",
      "536/536 [==============================] - 0s 516us/step - loss: 0.3501 - accuracy: 0.8522 - val_loss: 0.3749 - val_accuracy: 0.8444\n",
      "Epoch 64/100\n",
      "536/536 [==============================] - 0s 512us/step - loss: 0.3500 - accuracy: 0.8517 - val_loss: 0.3748 - val_accuracy: 0.8440\n",
      "Epoch 65/100\n",
      "536/536 [==============================] - 0s 514us/step - loss: 0.3497 - accuracy: 0.8524 - val_loss: 0.3746 - val_accuracy: 0.8444\n",
      "Epoch 66/100\n",
      "536/536 [==============================] - 0s 514us/step - loss: 0.3493 - accuracy: 0.8530 - val_loss: 0.3744 - val_accuracy: 0.8444\n",
      "Epoch 67/100\n",
      "536/536 [==============================] - 0s 516us/step - loss: 0.3491 - accuracy: 0.8528 - val_loss: 0.3746 - val_accuracy: 0.8432\n",
      "Epoch 68/100\n",
      "536/536 [==============================] - 0s 499us/step - loss: 0.3487 - accuracy: 0.8530 - val_loss: 0.3741 - val_accuracy: 0.8440\n",
      "Epoch 69/100\n",
      "536/536 [==============================] - 0s 514us/step - loss: 0.3484 - accuracy: 0.8539 - val_loss: 0.3738 - val_accuracy: 0.8451\n",
      "Epoch 70/100\n",
      "536/536 [==============================] - 0s 512us/step - loss: 0.3482 - accuracy: 0.8531 - val_loss: 0.3738 - val_accuracy: 0.8432\n",
      "Epoch 71/100\n",
      "536/536 [==============================] - 0s 497us/step - loss: 0.3479 - accuracy: 0.8541 - val_loss: 0.3735 - val_accuracy: 0.8429\n",
      "Epoch 72/100\n",
      "536/536 [==============================] - 0s 484us/step - loss: 0.3475 - accuracy: 0.8543 - val_loss: 0.3732 - val_accuracy: 0.8444\n",
      "Epoch 73/100\n",
      "536/536 [==============================] - 0s 503us/step - loss: 0.3473 - accuracy: 0.8548 - val_loss: 0.3731 - val_accuracy: 0.8436\n",
      "Epoch 74/100\n",
      "536/536 [==============================] - 0s 516us/step - loss: 0.3470 - accuracy: 0.8548 - val_loss: 0.3731 - val_accuracy: 0.8432\n",
      "Epoch 75/100\n",
      "536/536 [==============================] - 0s 516us/step - loss: 0.3468 - accuracy: 0.8535 - val_loss: 0.3730 - val_accuracy: 0.8436\n",
      "Epoch 76/100\n",
      "536/536 [==============================] - 0s 518us/step - loss: 0.3465 - accuracy: 0.8541 - val_loss: 0.3729 - val_accuracy: 0.8425\n",
      "Epoch 77/100\n",
      "536/536 [==============================] - 0s 518us/step - loss: 0.3463 - accuracy: 0.8535 - val_loss: 0.3725 - val_accuracy: 0.8432\n",
      "Epoch 78/100\n",
      "536/536 [==============================] - 0s 510us/step - loss: 0.3460 - accuracy: 0.8552 - val_loss: 0.3725 - val_accuracy: 0.8421\n",
      "Epoch 79/100\n",
      "536/536 [==============================] - 0s 512us/step - loss: 0.3458 - accuracy: 0.8550 - val_loss: 0.3722 - val_accuracy: 0.8425\n",
      "Epoch 80/100\n",
      "536/536 [==============================] - 0s 514us/step - loss: 0.3456 - accuracy: 0.8552 - val_loss: 0.3722 - val_accuracy: 0.8429\n",
      "Epoch 81/100\n",
      "536/536 [==============================] - 0s 509us/step - loss: 0.3454 - accuracy: 0.8548 - val_loss: 0.3720 - val_accuracy: 0.8425\n",
      "Epoch 82/100\n",
      "536/536 [==============================] - 0s 495us/step - loss: 0.3452 - accuracy: 0.8550 - val_loss: 0.3718 - val_accuracy: 0.8421\n",
      "Epoch 83/100\n",
      "536/536 [==============================] - 0s 482us/step - loss: 0.3450 - accuracy: 0.8556 - val_loss: 0.3721 - val_accuracy: 0.8429\n",
      "Epoch 84/100\n",
      "536/536 [==============================] - 0s 484us/step - loss: 0.3448 - accuracy: 0.8545 - val_loss: 0.3714 - val_accuracy: 0.8440\n",
      "Epoch 85/100\n",
      "536/536 [==============================] - 0s 501us/step - loss: 0.3446 - accuracy: 0.8569 - val_loss: 0.3716 - val_accuracy: 0.8444\n",
      "Epoch 86/100\n",
      "536/536 [==============================] - 0s 503us/step - loss: 0.3444 - accuracy: 0.8559 - val_loss: 0.3714 - val_accuracy: 0.8440\n",
      "Epoch 87/100\n",
      "536/536 [==============================] - 0s 520us/step - loss: 0.3444 - accuracy: 0.8550 - val_loss: 0.3715 - val_accuracy: 0.8432\n",
      "Epoch 88/100\n",
      "536/536 [==============================] - 0s 510us/step - loss: 0.3441 - accuracy: 0.8558 - val_loss: 0.3716 - val_accuracy: 0.8429\n",
      "Epoch 89/100\n",
      "536/536 [==============================] - 0s 501us/step - loss: 0.3438 - accuracy: 0.8558 - val_loss: 0.3719 - val_accuracy: 0.8429\n",
      "Epoch 90/100\n",
      "536/536 [==============================] - 0s 495us/step - loss: 0.3437 - accuracy: 0.8558 - val_loss: 0.3712 - val_accuracy: 0.8432\n",
      "Epoch 91/100\n",
      "536/536 [==============================] - 0s 499us/step - loss: 0.3437 - accuracy: 0.8572 - val_loss: 0.3713 - val_accuracy: 0.8444\n",
      "Epoch 92/100\n",
      "536/536 [==============================] - 0s 497us/step - loss: 0.3433 - accuracy: 0.8554 - val_loss: 0.3712 - val_accuracy: 0.8436\n",
      "Epoch 93/100\n",
      "536/536 [==============================] - 0s 497us/step - loss: 0.3434 - accuracy: 0.8563 - val_loss: 0.3715 - val_accuracy: 0.8432\n",
      "Epoch 94/100\n",
      "536/536 [==============================] - 0s 501us/step - loss: 0.3432 - accuracy: 0.8554 - val_loss: 0.3712 - val_accuracy: 0.8432\n",
      "Epoch 95/100\n",
      "536/536 [==============================] - 0s 499us/step - loss: 0.3431 - accuracy: 0.8576 - val_loss: 0.3710 - val_accuracy: 0.8429\n",
      "Epoch 96/100\n",
      "536/536 [==============================] - 0s 499us/step - loss: 0.3428 - accuracy: 0.8565 - val_loss: 0.3716 - val_accuracy: 0.8413\n",
      "Epoch 97/100\n",
      "536/536 [==============================] - 0s 486us/step - loss: 0.3427 - accuracy: 0.8559 - val_loss: 0.3713 - val_accuracy: 0.8425\n",
      "Epoch 98/100\n",
      "536/536 [==============================] - 0s 486us/step - loss: 0.3426 - accuracy: 0.8563 - val_loss: 0.3712 - val_accuracy: 0.8432\n",
      "Epoch 99/100\n",
      "536/536 [==============================] - 0s 490us/step - loss: 0.3425 - accuracy: 0.8574 - val_loss: 0.3709 - val_accuracy: 0.8429\n",
      "Epoch 100/100\n",
      "536/536 [==============================] - 0s 492us/step - loss: 0.3424 - accuracy: 0.8559 - val_loss: 0.3708 - val_accuracy: 0.8451\n"
     ]
    }
   ],
   "source": [
    "# Fitting the ANN to the Training set\n",
    "model_history=classifier.fit(X_train, y_train,validation_split=0.33, batch_size = 10, epochs = 100)"
   ]
  },
  {
   "cell_type": "code",
   "execution_count": 23,
   "id": "10965042",
   "metadata": {},
   "outputs": [
    {
     "data": {
      "text/plain": [
       "dict_keys(['loss', 'accuracy', 'val_loss', 'val_accuracy'])"
      ]
     },
     "execution_count": 23,
     "metadata": {},
     "output_type": "execute_result"
    }
   ],
   "source": [
    "model_history.history.keys()"
   ]
  },
  {
   "cell_type": "code",
   "execution_count": 25,
   "id": "fbd32ac5",
   "metadata": {},
   "outputs": [
    {
     "data": {
      "image/png": "[encoded data removed]",
      "text/plain": [
       "<Figure size 432x288 with 1 Axes>"
      ]
     },
     "metadata": {
      "needs_background": "light"
     },
     "output_type": "display_data"
    },
    {
     "data": {
      "image/png": "[encoded data removed]",
      "text/plain": [
       "<Figure size 432x288 with 1 Axes>"
      ]
     },
     "metadata": {
      "needs_background": "light"
     },
     "output_type": "display_data"
    }
   ],
   "source": [
    "# summarize history for accuracy\n",
    "plt.plot(model_history.history['accuracy'])\n",
    "plt.plot(model_history.history['val_accuracy'])\n",
    "plt.title('model accuracy')\n",
    "plt.ylabel('accuracy')\n",
    "plt.xlabel('epoch')\n",
    "plt.legend(['train', 'test'], loc='upper left')\n",
    "plt.show()\n",
    "\n",
    "# summarize history for loss\n",
    "plt.plot(model_history.history['loss'])\n",
    "plt.plot(model_history.history['val_loss'])\n",
    "plt.title('model loss')\n",
    "plt.ylabel('loss')\n",
    "plt.xlabel('epoch')\n",
    "plt.legend(['train', 'test'], loc='upper left')\n",
    "plt.show()"
   ]
  },
  {
   "cell_type": "code",
   "execution_count": 26,
   "id": "33c3f0ef",
   "metadata": {},
   "outputs": [],
   "source": [
    "# Part 3 - Making the predictions and evaluating the model\n",
    "\n",
    "# Predicting the Test set results\n",
    "y_pred = classifier.predict(X_test)\n",
    "y_pred = (y_pred > 0.5)"
   ]
  },
  {
   "cell_type": "code",
   "execution_count": 27,
   "id": "6735b293",
   "metadata": {},
   "outputs": [
    {
     "data": {
      "text/plain": [
       "array([[False],\n",
       "       [False],\n",
       "       [False],\n",
       "       ...,\n",
       "       [False],\n",
       "       [False],\n",
       "       [False]])"
      ]
     },
     "execution_count": 27,
     "metadata": {},
     "output_type": "execute_result"
    }
   ],
   "source": [
    "y_pred"
   ]
  },
  {
   "cell_type": "code",
   "execution_count": 28,
   "id": "2ccb5973",
   "metadata": {},
   "outputs": [],
   "source": [
    "# Making the Confusion Matrix\n",
    "from sklearn.metrics import confusion_matrix\n",
    "cm = confusion_matrix(y_test, y_pred)\n",
    "\n",
    "# Calculate the Accuracy\n",
    "from sklearn.metrics import accuracy_score\n",
    "score=accuracy_score(y_pred,y_test)"
   ]
  },
  {
   "cell_type": "code",
   "execution_count": 29,
   "id": "5952c691",
   "metadata": {},
   "outputs": [
    {
     "data": {
      "text/plain": [
       "array([[1506,   89],\n",
       "       [ 210,  195]], dtype=int64)"
      ]
     },
     "execution_count": 29,
     "metadata": {},
     "output_type": "execute_result"
    }
   ],
   "source": [
    "cm"
   ]
  },
  {
   "cell_type": "code",
   "execution_count": 30,
   "id": "b97ad5fa",
   "metadata": {},
   "outputs": [
    {
     "data": {
      "text/plain": [
       "0.8505"
      ]
     },
     "execution_count": 30,
     "metadata": {},
     "output_type": "execute_result"
    }
   ],
   "source": [
    "score"
   ]
  },
  {
   "cell_type": "code",
   "execution_count": 3,
   "id": "402d4cd4",
   "metadata": {},
   "outputs": [
    {
     "name": "stdout",
     "output_type": "stream",
     "text": [
      "Num GPUs Available:  1\n"
     ]
    }
   ],
   "source": [
    "import tensorflow as tf\n",
    "print(\"Num GPUs Available: \", len(tf.config.list_physical_devices('GPU')))"
   ]
  },
  {
   "cell_type": "code",
   "execution_count": null,
   "id": "2c7e5eae",
   "metadata": {},
   "outputs": [],
   "source": []
  }
 ],
 "metadata": {
  "kernelspec": {
   "display_name": "Python 3",
   "language": "python",
   "name": "python3"
  },
  "language_info": {
   "codemirror_mode": {
    "name": "ipython",
    "version": 3
   },
   "file_extension": ".py",
   "mimetype": "text/x-python",
   "name": "python",
   "nbconvert_exporter": "python",
   "pygments_lexer": "ipython3",
   "version": "3.8.8"
  }
 },
 "nbformat": 4,
 "nbformat_minor": 5
}
